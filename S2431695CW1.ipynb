{
  "nbformat": 4,
  "nbformat_minor": 0,
  "metadata": {
    "colab": {
      "provenance": [],
      "authorship_tag": "ABX9TyPoDuLIYRpGbS1tOby5T2o8",
      "include_colab_link": true
    },
    "kernelspec": {
      "name": "python3",
      "display_name": "Python 3"
    },
    "language_info": {
      "name": "python"
    }
  },
  "cells": [
    {
      "cell_type": "markdown",
      "metadata": {
        "id": "view-in-github",
        "colab_type": "text"
      },
      "source": [
        "<a href=\"https://colab.research.google.com/github/Bogdusik/Weevent/blob/main/S2431695CW1.ipynb\" target=\"_parent\"><img src=\"https://colab.research.google.com/assets/colab-badge.svg\" alt=\"Open In Colab\"/></a>"
      ]
    },
    {
      "cell_type": "markdown",
      "source": [
        "#CW01 Introduction to Data Science 24/25\n",
        "###Edmond Cselik\n",
        "###Software Development\n",
        "###S2431695\n"
      ],
      "metadata": {
        "id": "VtiOUHfBlF0Y"
      }
    },
    {
      "cell_type": "markdown",
      "source": [
        "## Overview of Objectives"
      ],
      "metadata": {
        "id": "mXK4k5YwNI5Z"
      }
    },
    {
      "cell_type": "markdown",
      "source": [
        "Introduction\n",
        "\n",
        "\t•\tProvide a concise overview of the dataset.\n",
        "\t•\tDiscuss challenges commonly encountered with real-world data sources.\n",
        "\t•\tSummarise the objectives of the assessment.\n",
        "\t•\tOutline the key questions that the report aims to address through Exploratory Data Analysis (EDA).\n",
        "\n",
        "Data Loading and Initial Inspection\n",
        "\n",
        "\t•\tLoad the dataset into the environment.\n",
        "\t•\tPresent basic details about the dataset, including the total number of rows and columns.\n",
        "\t•\tReview the initial rows of the dataset to gain insights into the data structure.\n",
        "\t•\tDescribe the steps taken during this process.\n",
        "\n",
        "Data Cleansing and Pre-processing\n",
        "\n",
        "\t•\tIdentify and rectify any errors in the data, including the removal of rows as necessary and the elimination of unnamed columns.\n",
        "\t•\tAssess relevant numeric columns by counting outliers using a threshold of four standard deviations (SD).\n",
        "\t•\tElaborate on the techniques used for data cleansing and pre-processing.\n",
        "\n",
        "Univariate Analysis\n",
        "\n",
        "\t•\tAnalyse the dataset through basic statistics, focusing on measures of central tendency, standard deviations, and value counts.\n",
        "\t•\tVisualise the distribution of key numeric variables using histograms.\n",
        "\t•\tGenerate a categorical variable from an existing numeric column to facilitate bar chart visualisation.\n",
        "\t•\tInvestigate the frequency distribution of the newly created categorical variable with a bar chart.\n",
        "\t•\tExplain the methodologies used and present your findings in relation to the report’s objectives.\n",
        "\n",
        "Bivariate Analysis\n",
        "\n",
        "\t•\tConduct an analysis of the data using pivot tables across multiple columns.\n",
        "\t•\tPerform cross-tabulation analysis between two specific columns.\n",
        "\t•\tClarify the methodologies employed and summarise your findings in connection with the report’s goals.\n",
        "\n",
        "Conclusions\n",
        "\n",
        "\t•\tRecap the main findings from the analysis and discuss the insights gained from the EDA."
      ],
      "metadata": {
        "id": "LmIrR5ORNZKA"
      }
    },
    {
      "cell_type": "markdown",
      "source": [
        "##Introduction"
      ],
      "metadata": {
        "id": "PTHNEf_ulidz"
      }
    },
    {
      "cell_type": "markdown",
      "source": [
        "The **spotify5000.csv** dataset is an extensive list that holds various musical attributes and listener engagement metrics. Each entry in this data set provides qualitative and quantitative dimensions.\n",
        "\n",
        "The dataset provides valuable insights for exploring a number of aspects of music, from artist profiles and genre classifications to musical qualities and listener interactions. The data provided can help the study of musical trends over time."
      ],
      "metadata": {
        "id": "nz5N7X0qlyK1"
      }
    },
    {
      "cell_type": "markdown",
      "source": [
        "Datasets may come with a range of difficulties that can complicate the readability and use due to outside factors such as human error during collection, missing data or varying formats.\n",
        "\n",
        "Datasets can be overwhelming due to their size, therefore they can require significant computing power for storage and/or analysis - furthermore, some data comes in *unstructured* formats which could require additional processing tools and resources.\n",
        "\n",
        "Other noteable challanges are data integration, relevance, ethical concerns, context and technical limitations."
      ],
      "metadata": {
        "id": "umX_wF0rquXp"
      }
    },
    {
      "cell_type": "markdown",
      "source": [
        "## Key Questions"
      ],
      "metadata": {
        "id": "hlaxrXcWOsZa"
      }
    },
    {
      "cell_type": "markdown",
      "source": [
        "What are the distribution of average ratings and number of ratings across different genres?\n",
        "\n",
        "\n",
        "\t•\tThis questions aims to identify the overall performance of each genre by examining how ratings are distributed.\n",
        "\n",
        "Are there any notable correlations between the average ratings and the number of ratings received by different genres?\n",
        "\n",
        "\n",
        "\t•\tInvestigating the relationship between these two metrics can reveal whether genres with more ratings tend to have higher or lower average ratings.\n",
        "\n",
        "How do outliers affect the average ratings and the analysis overall?\n",
        "\n",
        "\n",
        "\t•\tThis questions focuses on identifying specific traits or features associated with the top and bottom-rated genres.\n",
        "\n",
        "\n",
        "What data cleansing and preprocessing steps are neccessary to ensure the dataset is robust for analysis?\n",
        "\n",
        "\n",
        "\t•\tIt is important to understand the importance of data quality and integrity to be able to conduct a meaningful data analysis.\n",
        "\n",
        "\n",
        "How does the genre distribution change when looking at the number of albums versus the ratings received?\n",
        "\n",
        "\n",
        "\tBy examining both the number of albums in each genre and the ratings they receive, this question seeks to uncover whether certain genres have a larger or smaller presence in the dataset and how that impacts their overall ratings."
      ],
      "metadata": {
        "id": "98hS8ozGOvOZ"
      }
    },
    {
      "cell_type": "markdown",
      "source": [
        "## Initial Inspection"
      ],
      "metadata": {
        "id": "2gWyvuMtuEDJ"
      }
    },
    {
      "cell_type": "code",
      "source": [
        "import pandas as pd # high-performance data manipulation and analysis tools\n",
        "import numpy as np # provides support for large, multi-dimensional arrays and matrices\n",
        "import matplotlib.pyplot as plt # provides a collection of functions for creating static, interactive, and animated visualisations\n",
        "\n",
        "df = pd.read_csv('Spotify5000.csv') # Loading the dataset\n"
      ],
      "metadata": {
        "id": "jSiM2-PXDIqv"
      },
      "execution_count": null,
      "outputs": []
    },
    {
      "cell_type": "markdown",
      "source": [
        "***Pandas*** library is used for data manipulation and analysis. It provides structures like DataFrames, which are ideal for organising, manipulating, and analysing tabular data.\n",
        "\n",
        "***Numpy*** supports efficient numerical operations on large, multi-dimensional arrays and matrices. It offers mathematical functiopns and tools to perform operations on arrays, essential for data processing and manipulation.\n",
        "\n",
        "***Matplotlib*** is a plotting library used for visualising data. It provides tools for creating various types of plots, including line plots, scatter plots, histograms (important with this analysis since we used it quite often), and many more. This allows us to visualise data patterns and trends.\n",
        "\n",
        "\n",
        "\n"
      ],
      "metadata": {
        "id": "rNiLK2mOv1NF"
      }
    },
    {
      "cell_type": "code",
      "source": [
        "# Display initial information about dataset\n",
        "print(\"\\nBasic Information:\")\n",
        "print(df.info())\n",
        "\n",
        "# Displaying rows of the dataset\n",
        "print(\"\\nFirst few rows of the dataset: \")\n",
        "print(df.head()) # Displays the first 5 by default\n",
        "\n",
        "# Clean up the 'gens' column to remove extra spaces\n",
        "df['gens'] = df['gens'].str.strip()                    # Removes leading/trailing spaces\n",
        "df['gens'] = df['gens'].str.replace(r'\\s+', ' ', regex=True)  # Replaces multiple spaces with a single space\n"
      ],
      "metadata": {
        "colab": {
          "base_uri": "https://localhost:8080/"
        },
        "id": "HXfu8GGWuJZM",
        "outputId": "86e1266c-3161-4f74-a5f6-587e61ab67ff"
      },
      "execution_count": null,
      "outputs": [
        {
          "output_type": "stream",
          "name": "stdout",
          "text": [
            "\n",
            "Basic Information:\n",
            "<class 'pandas.core.frame.DataFrame'>\n",
            "RangeIndex: 4402 entries, 0 to 4401\n",
            "Data columns (total 20 columns):\n",
            " #   Column            Non-Null Count  Dtype  \n",
            "---  ------            --------------  -----  \n",
            " 0   Unnamed: 0        4402 non-null   int64  \n",
            " 1   ars_name          4402 non-null   object \n",
            " 2   rel_date          4402 non-null   object \n",
            " 3   gens              4402 non-null   object \n",
            " 4   descs             4304 non-null   object \n",
            " 5   avg_rat           4402 non-null   float64\n",
            " 6   num_rat           4402 non-null   object \n",
            " 7   num_revs          4402 non-null   int64  \n",
            " 8   album             4402 non-null   object \n",
            " 9   acousticness      4402 non-null   float64\n",
            " 10  danceability      4402 non-null   float64\n",
            " 11  energy            4402 non-null   float64\n",
            " 12  instrumentalness  4402 non-null   float64\n",
            " 13  liveness          4402 non-null   float64\n",
            " 14  loudness          4402 non-null   float64\n",
            " 15  speechiness       4402 non-null   float64\n",
            " 16  tempo             4402 non-null   float64\n",
            " 17  valence           4402 non-null   float64\n",
            " 18  duration_ms       4402 non-null   float64\n",
            " 19  time_signature    4402 non-null   float64\n",
            "dtypes: float64(12), int64(2), object(6)\n",
            "memory usage: 687.9+ KB\n",
            "None\n",
            "\n",
            "First few rows of the dataset: \n",
            "   Unnamed: 0        ars_name   rel_date               gens  \\\n",
            "0           0       Radiohead  16-Jun-97   Alternative Rock   \n",
            "1           1      Pink Floyd  12-Sep-75   Progressive Rock   \n",
            "2           2    King Crimson  10-Oct-69   Progressive Rock   \n",
            "3           3       Radiohead  03-Oct-00           Art Rock   \n",
            "4           4  Kendrick Lamar  15-Mar-15  Conscious Hip Hop   \n",
            "\n",
            "                                               descs  avg_rat num_rat  \\\n",
            "0  melancholic, anxious, futuristic, alienation, ...     4.23  70,382   \n",
            "1  melancholic, atmospheric, progressive, male vo...     4.29  48,662   \n",
            "2  fantasy, epic, progressive, philosophical, com...     4.30  44,943   \n",
            "3  cold, melancholic, futuristic, atmospheric, an...     4.21  58,590   \n",
            "4  political, conscious, poetic, protest, concept...     4.27  44,206   \n",
            "\n",
            "   num_revs                             album  acousticness  danceability  \\\n",
            "0      1531                       OK Computer      0.135763      0.288083   \n",
            "1       983                Wish You Were Here      0.602800      0.373600   \n",
            "2       870  In the Court of the Crimson King      0.297686      0.340625   \n",
            "3       734                             Kid A      0.123219      0.601294   \n",
            "4       379               To Pimp a Butterfly      0.322889      0.590750   \n",
            "\n",
            "     energy  instrumentalness  liveness   loudness  speechiness       tempo  \\\n",
            "0  0.565917          0.161053  0.159375  -9.102417     0.056308  115.450750   \n",
            "1  0.409800          0.363040  0.384940 -12.689400     0.039740  130.018800   \n",
            "2  0.370475          0.327265  0.149138 -14.873125     0.043463  118.920625   \n",
            "3  0.676706          0.000669  0.311412  -7.811941     0.268318  116.045059   \n",
            "4  0.707625          0.000011  0.318419  -5.802062     0.294175  103.444563   \n",
            "\n",
            "    valence  duration_ms  time_signature  \n",
            "0  0.291733  268435.5000        4.000000  \n",
            "1  0.259040  530512.0000        3.600000  \n",
            "2  0.279400  507644.1250        3.875000  \n",
            "3  0.398206  325379.5294        4.058824  \n",
            "4  0.487187  296225.7500        3.812500  \n"
          ]
        }
      ]
    },
    {
      "cell_type": "markdown",
      "source": [
        "The output data above provides a summary of the data stored in this dataset. We can see that there are 4,402 rows and 20 columns.\n",
        "\n",
        "The first few rows reveals attributes such as **Artist Name**, **Release Date**, **Genres**, **Description**, **Average Rating**, **Number of Ratings**, **Number of Reviews** and **Number of Ratings**"
      ],
      "metadata": {
        "id": "sSBp_yUnw-ok"
      }
    },
    {
      "cell_type": "markdown",
      "source": [
        "Most importantly, we had to import the pandas library, which is used to handle and analyse data in Python.\n",
        "\n",
        "Then, we load our dataset with \"***df = pd.read_csv('Spotify5000.csv')***\" (*which means we are now able to analyse and manipulate the data*)\n",
        "\n",
        "Lastly, with \"print(**\"\\nFirst few rows of the dataset: \"**)\" and \"print(**df.head())**\" we simply output the first few rows of the dataset, allowing us to analyse and have a quick glance at the structure."
      ],
      "metadata": {
        "id": "myJ48FbAeFzm"
      }
    },
    {
      "cell_type": "markdown",
      "source": [
        "## Data Cleansing"
      ],
      "metadata": {
        "id": "2fpymrBVyU_l"
      }
    },
    {
      "cell_type": "markdown",
      "source": [
        "It is important that we detect any null values, for this we can use the following code:"
      ],
      "metadata": {
        "id": "FRh-nRLCzUTw"
      }
    },
    {
      "cell_type": "code",
      "source": [
        "# Checking for missing values then displaying it\n",
        "null_values = df.isnull()\n",
        "print(null_values)\n",
        "print(df.isnull().sum())\n",
        "# We can remove unnamed colums with the following code\n",
        "df = df.loc[:, ~df.columns.str.contains('^Unnamed')]\n",
        "\n",
        "# Removing rows with missing values in them\n",
        "df_cleaned = df.dropna()\n",
        "\n",
        "# Displaying and removing duplicate rows\n",
        "print(\"\\nNo. Duplicate Rows:\")\n",
        "print(df.duplicated().sum())\n",
        "\n",
        "#remove rows with missing values\n",
        "df_cleaned = df.dropna(subset=['avg_rat'])\n"
      ],
      "metadata": {
        "colab": {
          "base_uri": "https://localhost:8080/"
        },
        "id": "rGu-QmWmzaf1",
        "outputId": "40213f77-ab5b-4003-c14c-ab50c648bce6"
      },
      "execution_count": null,
      "outputs": [
        {
          "output_type": "stream",
          "name": "stdout",
          "text": [
            "      Unnamed: 0  ars_name  rel_date   gens  descs  avg_rat  num_rat  \\\n",
            "0          False     False     False  False  False    False    False   \n",
            "1          False     False     False  False  False    False    False   \n",
            "2          False     False     False  False  False    False    False   \n",
            "3          False     False     False  False  False    False    False   \n",
            "4          False     False     False  False  False    False    False   \n",
            "...          ...       ...       ...    ...    ...      ...      ...   \n",
            "4397       False     False     False  False  False    False    False   \n",
            "4398       False     False     False  False  False    False    False   \n",
            "4399       False     False     False  False   True    False    False   \n",
            "4400       False     False     False  False  False    False    False   \n",
            "4401       False     False     False  False  False    False    False   \n",
            "\n",
            "      num_revs  album  acousticness  danceability  energy  instrumentalness  \\\n",
            "0        False  False         False         False   False             False   \n",
            "1        False  False         False         False   False             False   \n",
            "2        False  False         False         False   False             False   \n",
            "3        False  False         False         False   False             False   \n",
            "4        False  False         False         False   False             False   \n",
            "...        ...    ...           ...           ...     ...               ...   \n",
            "4397     False  False         False         False   False             False   \n",
            "4398     False  False         False         False   False             False   \n",
            "4399     False  False         False         False   False             False   \n",
            "4400     False  False         False         False   False             False   \n",
            "4401     False  False         False         False   False             False   \n",
            "\n",
            "      liveness  loudness  speechiness  tempo  valence  duration_ms  \\\n",
            "0        False     False        False  False    False        False   \n",
            "1        False     False        False  False    False        False   \n",
            "2        False     False        False  False    False        False   \n",
            "3        False     False        False  False    False        False   \n",
            "4        False     False        False  False    False        False   \n",
            "...        ...       ...          ...    ...      ...          ...   \n",
            "4397     False     False        False  False    False        False   \n",
            "4398     False     False        False  False    False        False   \n",
            "4399     False     False        False  False    False        False   \n",
            "4400     False     False        False  False    False        False   \n",
            "4401     False     False        False  False    False        False   \n",
            "\n",
            "      time_signature  \n",
            "0              False  \n",
            "1              False  \n",
            "2              False  \n",
            "3              False  \n",
            "4              False  \n",
            "...              ...  \n",
            "4397           False  \n",
            "4398           False  \n",
            "4399           False  \n",
            "4400           False  \n",
            "4401           False  \n",
            "\n",
            "[4402 rows x 20 columns]\n",
            "Unnamed: 0           0\n",
            "ars_name             0\n",
            "rel_date             0\n",
            "gens                 0\n",
            "descs               98\n",
            "avg_rat              0\n",
            "num_rat              0\n",
            "num_revs             0\n",
            "album                0\n",
            "acousticness         0\n",
            "danceability         0\n",
            "energy               0\n",
            "instrumentalness     0\n",
            "liveness             0\n",
            "loudness             0\n",
            "speechiness          0\n",
            "tempo                0\n",
            "valence              0\n",
            "duration_ms          0\n",
            "time_signature       0\n",
            "dtype: int64\n",
            "\n",
            "No. Duplicate Rows:\n",
            "0\n"
          ]
        }
      ]
    },
    {
      "cell_type": "markdown",
      "source": [
        "At the beginning of the code, we are displaying the total count of missing values for each column, which helps identify areas lacking data. Then, we are removing unnamed columns. Next, it cleans the dataset by dropping rows with any missing values to ensure a complete dataset. The code also checks for duplicates to assess data integrity. Finally, we remove any rows where the avg_rat is missing.\n",
        "\n",
        "This code first checks for and displays missing values in the DataFrame df by using the isnull() method and subsequently prints the total count of missing values per column. It then removes any unnamed columns from the DataFrame, drops rows that contain missing values, and checks for duplicate rows, printing the count of duplicates. Finally, it ensures that rows with missing values specifically in the avg_rat column are also removed, resulting in a cleaned DataFrame named df_cleaned.\n"
      ],
      "metadata": {
        "id": "JolfvE-wKmnC"
      }
    },
    {
      "cell_type": "markdown",
      "source": [
        "To count each null value in larger datasets like this would take far too long, therefore we can use the following code to display the existing null values in the data set"
      ],
      "metadata": {
        "id": "FqR1acxYz2aZ"
      }
    },
    {
      "cell_type": "code",
      "source": [
        "# Count null values in each column\n",
        "\n",
        "null_counts = df.isnull().sum()\n",
        "print(\"\\nSum of null values in each column: \")\n",
        "print(null_counts)"
      ],
      "metadata": {
        "colab": {
          "base_uri": "https://localhost:8080/"
        },
        "id": "t1rOFtuA0HRu",
        "outputId": "94a3d0bb-3b51-4921-d41d-0cecb29137e9"
      },
      "execution_count": null,
      "outputs": [
        {
          "output_type": "stream",
          "name": "stdout",
          "text": [
            "\n",
            "Sum of null values in each column: \n",
            "Unnamed: 0           0\n",
            "ars_name             0\n",
            "rel_date             0\n",
            "gens                 0\n",
            "descs               98\n",
            "avg_rat              0\n",
            "num_rat              0\n",
            "num_revs             0\n",
            "album                0\n",
            "acousticness         0\n",
            "danceability         0\n",
            "energy               0\n",
            "instrumentalness     0\n",
            "liveness             0\n",
            "loudness             0\n",
            "speechiness          0\n",
            "tempo                0\n",
            "valence              0\n",
            "duration_ms          0\n",
            "time_signature       0\n",
            "dtype: int64\n"
          ]
        }
      ]
    },
    {
      "cell_type": "markdown",
      "source": [
        "There are 98 null value descriptions in this dataset, as per the output above.\n",
        "\n",
        "It is important to decide whether or not removing the null values will impact the quality of our analysis. In some cases, removing large chunks of data can result in poor reporting, but in some cases will enhance the report.\n",
        "\n",
        "This code snippet counts the number of null (missing) values in each column of the DataFrame df using the isnull() method, followed by the sum() function to aggregate the counts for each column. It then prints a summary message indicating the sum of null values for each column."
      ],
      "metadata": {
        "id": "rA52B4kx1Xv7"
      }
    },
    {
      "cell_type": "code",
      "source": [
        "# Drop columns with 'Unnamed' prefix\n",
        "df = df.loc[:, [column for column in df.columns if not column.startswith('Unnamed')]]\n",
        "\n",
        "# Filter for numeric columns to analyse for outliers\n",
        "numeric_cols = df.select_dtypes(include=['number']).columns\n",
        "\n",
        "# Function to calculate outliers based on 4 standard deviations from the mean\n",
        "def calculate_outliers(df, col):\n",
        "    col_mean = df[col].mean()\n",
        "    col_std = df[col].std()\n",
        "    limit = col_std * 4\n",
        "    # Determine outliers by checking if values exceed 4 standard deviations from the mean\n",
        "    outlier_data = df[(df[col] > col_mean + limit) | (df[col] < col_mean - limit)]\n",
        "    return outlier_data.shape[0]  # Count of outliers\n",
        "\n",
        "# Count outliers for each numeric column and store results\n",
        "outlier_summary = {col: calculate_outliers(df, col) for col in numeric_cols}\n",
        "\n",
        "# Display results\n",
        "print(\"\\nOutlier Count for Numeric Columns (4 Standard Deviation Threshold):\")\n",
        "for column, outlier_count in outlier_summary.items():\n",
        "    print(f\"{column}: {outlier_count} outliers\")"
      ],
      "metadata": {
        "colab": {
          "base_uri": "https://localhost:8080/"
        },
        "id": "_rCA6IO4IcvB",
        "outputId": "3e102b91-2f42-430f-fea4-134674df564d"
      },
      "execution_count": null,
      "outputs": [
        {
          "output_type": "stream",
          "name": "stdout",
          "text": [
            "\n",
            "Outlier Count for Numeric Columns (4 Standard Deviation Threshold):\n",
            "avg_rat: 26 outliers\n",
            "num_revs: 55 outliers\n",
            "acousticness: 0 outliers\n",
            "danceability: 0 outliers\n",
            "energy: 0 outliers\n",
            "instrumentalness: 0 outliers\n",
            "liveness: 39 outliers\n",
            "loudness: 20 outliers\n",
            "speechiness: 31 outliers\n",
            "tempo: 9 outliers\n",
            "valence: 0 outliers\n",
            "duration_ms: 33 outliers\n",
            "time_signature: 27 outliers\n"
          ]
        }
      ]
    },
    {
      "cell_type": "markdown",
      "source": [
        "The outlier count for numeric columns using a threshold of 4 standard deviations from the mean reveals notable variations in data quality across the dataset. Specifically, the avg_rat column shows 26 outliers, indicating extreme user satisfaction or dissatisfaction with certain songs. The num_revs column has 55 outliers, suggesting that some songs either received an unusually high number of reviews, reflecting their popularity, or very few reviews, indicating a lack of engagement. In contrast, columns such as acousticness, danceability, energy, instrumentalness, and valence show 0 outliers, indicating consistency in the acoustic and musical qualities of the songs. The liveness column has 39 outliers, hinting that certain tracks may have been performed live or recorded with audience noise. Similarly, loudness displays 20 outliers, pointing to songs that vary significantly in loudness, possibly due to different production styles. Lastly, the speechiness column shows 31 outliers, suggesting variations in lyrical density, while the duration_ms column has 33 outliers, reflecting some songs being considerably longer or shorter than the average. The time_signature column also contains 27 outliers, indicating the presence of less common time signatures that may appeal to niche audiences."
      ],
      "metadata": {
        "id": "pyUcxqZMJWzA"
      }
    },
    {
      "cell_type": "markdown",
      "source": [
        "## Univariate Analysis"
      ],
      "metadata": {
        "id": "d7oWWp8UKaq2"
      }
    },
    {
      "cell_type": "code",
      "source": [
        "# Check data types to identify non-numeric columns\n",
        "print(\"Data Types in the DataFrame:\")\n",
        "print(df.dtypes)\n",
        "\n",
        "# Convert all columns to numeric where possible, coercing errors to NaN\n",
        "df_numeric = df.apply(pd.to_numeric, errors='coerce')\n",
        "\n",
        "# Basic Statistics for numeric columns\n",
        "basic_stats = df_numeric.describe()  # Get summary statistics for numeric columns\n",
        "\n",
        "# Measures of Central Tendency\n",
        "mean = df_numeric.mean()  # Calculate mean\n",
        "median = df_numeric.median()  # Calculate median\n",
        "\n",
        "# Standard Deviations\n",
        "std_dev = df_numeric.std()  # Calculate standard deviation for numeric columns\n",
        "\n",
        "# Value Counts for categorical columns\n",
        "value_counts = {}\n",
        "for column in df.select_dtypes(include=['object', 'category']):\n",
        "    value_counts[column] = df[column].value_counts()  # Count unique values\n",
        "\n",
        "# Display\n",
        "print(\"\\nBasic Statistics:\")\n",
        "print(basic_stats)\n",
        "\n",
        "print(\"\\nMean:\")\n",
        "print(mean)\n",
        "\n",
        "print(\"\\nMedian:\")\n",
        "print(median)\n",
        "\n",
        "print(\"\\nStandard Deviations:\")\n",
        "print(std_dev)\n",
        "\n",
        "print(\"\\nValue Counts for 'gens':\\n\", value_counts)"
      ],
      "metadata": {
        "colab": {
          "base_uri": "https://localhost:8080/"
        },
        "id": "KVtb5_t9KjRJ",
        "outputId": "9ee93d76-9a74-417d-bce3-b765658c362d"
      },
      "execution_count": null,
      "outputs": [
        {
          "output_type": "stream",
          "name": "stdout",
          "text": [
            "Data Types in the DataFrame:\n",
            "ars_name             object\n",
            "rel_date             object\n",
            "gens                 object\n",
            "descs                object\n",
            "avg_rat             float64\n",
            "num_rat              object\n",
            "num_revs              int64\n",
            "album                object\n",
            "acousticness        float64\n",
            "danceability        float64\n",
            "energy              float64\n",
            "instrumentalness    float64\n",
            "liveness            float64\n",
            "loudness            float64\n",
            "speechiness         float64\n",
            "tempo               float64\n",
            "valence             float64\n",
            "duration_ms         float64\n",
            "time_signature      float64\n",
            "dtype: object\n",
            "\n",
            "Basic Statistics:\n",
            "       ars_name     rel_date  gens  descs      avg_rat      num_rat  \\\n",
            "count       0.0   661.000000   0.0    0.0  4402.000000  1358.000000   \n",
            "mean        NaN  1978.919818   NaN    NaN     3.771320   590.019146   \n",
            "std         NaN    11.637371   NaN    NaN     0.100606   205.214063   \n",
            "min         NaN  1951.000000   NaN    NaN     3.520000   260.000000   \n",
            "25%         NaN  1972.000000   NaN    NaN     3.700000   410.000000   \n",
            "50%         NaN  1976.000000   NaN    NaN     3.750000   563.000000   \n",
            "75%         NaN  1987.000000   NaN    NaN     3.810000   763.750000   \n",
            "max         NaN  2014.000000   NaN    NaN     4.340000   999.000000   \n",
            "\n",
            "          num_revs         album  acousticness  danceability       energy  \\\n",
            "count  4402.000000  1.700000e+01  4.402000e+03   4402.000000  4402.000000   \n",
            "mean     76.538846  6.024825e+04  3.384089e-01      0.477338     0.575443   \n",
            "std     112.977848  2.447732e+05  2.880880e-01      0.158556     0.226569   \n",
            "min       0.000000  0.000000e+00  6.610000e-07      0.074900     0.002360   \n",
            "25%      16.000000  8.000000e+00  9.173208e-02      0.369511     0.422866   \n",
            "50%      39.000000  6.660000e+02  2.613944e-01      0.473867     0.598767   \n",
            "75%      91.000000  1.996000e+03  5.439500e-01      0.584472     0.746233   \n",
            "max    1549.000000  1.010101e+06  9.960000e-01      0.946000     1.000000   \n",
            "\n",
            "       instrumentalness     liveness     loudness  speechiness        tempo  \\\n",
            "count       4402.000000  4402.000000  4402.000000  4402.000000  4402.000000   \n",
            "mean           0.250817     0.201108   -10.674275     0.087147   119.290332   \n",
            "std            0.286694     0.096184     5.197312     0.081774    14.933975   \n",
            "min            0.000000     0.032100   -45.267000     0.026200    60.011000   \n",
            "25%            0.009679     0.138433   -13.054771     0.041927   110.363377   \n",
            "50%            0.126991     0.179018    -9.590507     0.055399   119.175856   \n",
            "75%            0.423197     0.238470    -7.031358     0.094167   128.042923   \n",
            "max            0.993000     0.937000     0.942625     0.944000   197.931000   \n",
            "\n",
            "           valence   duration_ms  time_signature  \n",
            "count  4402.000000  4.402000e+03     4402.000000  \n",
            "mean      0.424103  2.849496e+05        3.855067  \n",
            "std       0.200978  1.957019e+05        0.226416  \n",
            "min       0.000010  3.976500e+04        1.000000  \n",
            "25%       0.272830  1.998519e+05        3.769231  \n",
            "50%       0.424937  2.432006e+05        3.916667  \n",
            "75%       0.577492  3.071986e+05        4.000000  \n",
            "max       0.990000  3.876277e+06        5.000000  \n",
            "\n",
            "Mean:\n",
            "ars_name                      NaN\n",
            "rel_date              1978.919818\n",
            "gens                          NaN\n",
            "descs                         NaN\n",
            "avg_rat                  3.771320\n",
            "num_rat                590.019146\n",
            "num_revs                76.538846\n",
            "album                60248.247647\n",
            "acousticness             0.338409\n",
            "danceability             0.477338\n",
            "energy                   0.575443\n",
            "instrumentalness         0.250817\n",
            "liveness                 0.201108\n",
            "loudness               -10.674275\n",
            "speechiness              0.087147\n",
            "tempo                  119.290332\n",
            "valence                  0.424103\n",
            "duration_ms         284949.606116\n",
            "time_signature           3.855067\n",
            "dtype: float64\n",
            "\n",
            "Median:\n",
            "ars_name                      NaN\n",
            "rel_date              1976.000000\n",
            "gens                          NaN\n",
            "descs                         NaN\n",
            "avg_rat                  3.750000\n",
            "num_rat                563.000000\n",
            "num_revs                39.000000\n",
            "album                  666.000000\n",
            "acousticness             0.261394\n",
            "danceability             0.473867\n",
            "energy                   0.598767\n",
            "instrumentalness         0.126991\n",
            "liveness                 0.179018\n",
            "loudness                -9.590507\n",
            "speechiness              0.055399\n",
            "tempo                  119.175856\n",
            "valence                  0.424937\n",
            "duration_ms         243200.625000\n",
            "time_signature           3.916667\n",
            "dtype: float64\n",
            "\n",
            "Standard Deviations:\n",
            "ars_name                      NaN\n",
            "rel_date                11.637371\n",
            "gens                          NaN\n",
            "descs                         NaN\n",
            "avg_rat                  0.100606\n",
            "num_rat                205.214063\n",
            "num_revs               112.977848\n",
            "album               244773.201190\n",
            "acousticness             0.288088\n",
            "danceability             0.158556\n",
            "energy                   0.226569\n",
            "instrumentalness         0.286694\n",
            "liveness                 0.096184\n",
            "loudness                 5.197312\n",
            "speechiness              0.081774\n",
            "tempo                   14.933975\n",
            "valence                  0.200978\n",
            "duration_ms         195701.873001\n",
            "time_signature           0.226416\n",
            "dtype: float64\n",
            "\n",
            "Value Counts for 'gens':\n",
            " {'ars_name': ars_name\n",
            "Various Artists       18\n",
            "Miles Davis           17\n",
            "Tom Waits             13\n",
            "John Coltrane         12\n",
            "John Williams         12\n",
            "                      ..\n",
            "Todd Edwards           1\n",
            "Henry Flynt            1\n",
            "Boredoms               1\n",
            "Rubén González         1\n",
            "And Also the Trees     1\n",
            "Name: count, Length: 2493, dtype: int64, 'rel_date': rel_date\n",
            "1973         45\n",
            "1972         42\n",
            "1975         30\n",
            "1979         29\n",
            "1971         28\n",
            "             ..\n",
            "21-Jun-93     1\n",
            "Feb-93        1\n",
            "08-Feb-74     1\n",
            "20-Dec-07     1\n",
            "22-May-75     1\n",
            "Name: count, Length: 2727, dtype: int64, 'gens': gens\n",
            "Progressive Rock       197\n",
            "Singer/Songwriter      146\n",
            "Hard Bop               109\n",
            "Hard Rock              104\n",
            "Heavy Metal            101\n",
            "                      ... \n",
            "Chipmunk Soul            1\n",
            "Neue Deutsche Härte      1\n",
            "Irish Folk Music         1\n",
            "Future Garage            1\n",
            "J-Pop                    1\n",
            "Name: count, Length: 428, dtype: int64, 'descs': descs\n",
            "male vocals                                                                                                    29\n",
            "female vocals                                                                                                  10\n",
            "instrumental, acoustic, improvisation                                                                           6\n",
            "instrumental                                                                                                    6\n",
            "improvisation, instrumental                                                                                     4\n",
            "                                                                                                               ..\n",
            "acoustic, instrumental                                                                                          1\n",
            "dark, atmospheric, instrumental, forest, desert, medieval, ominous, lonely, suspenseful, mellow                 1\n",
            "ethereal, melancholic, lonely, lo-fi, atmospheric, forest, soothing, acoustic, introspective, female vocals     1\n",
            "fantasy, male vocals, uplifting, melodic, poetic, energetic, passionate, heavy                                  1\n",
            "lush, female vocals, romantic, uplifting, summer, love, bittersweet, passionate, sensual, warm                  1\n",
            "Name: count, Length: 4239, dtype: int64, 'num_rat': num_rat\n",
            "490      9\n",
            "465      8\n",
            "448      7\n",
            "350      7\n",
            "320      7\n",
            "        ..\n",
            "4,220    1\n",
            "3,344    1\n",
            "2,967    1\n",
            "3,164    1\n",
            "5,501    1\n",
            "Name: count, Length: 3166, dtype: int64, 'album': album\n",
            "OK Computer               1\n",
            "Hijos del agobio          1\n",
            "Up on the Sun             1\n",
            "LC                        1\n",
            "Lianne La Havas           1\n",
            "                         ..\n",
            "Pygmalion                 1\n",
            "Sounds of Silence         1\n",
            "Dare Iz a Darkside        1\n",
            "A Prince Among Thieves    1\n",
            "Adventures in Paradise    1\n",
            "Name: count, Length: 4402, dtype: int64}\n"
          ]
        }
      ]
    },
    {
      "cell_type": "markdown",
      "source": [
        "It first checks and prints the data types of each column to identify any non-numeric columns. It then attempts to convert all columns to numeric types, coercing any errors into NaN values. The code calculates and displays basic statistics (such as mean, median, and standard deviation) for the numeric columns, providing insights into their distribution. Additionally, it counts unique values in categorical columns and stores these counts in a dictionary for later reference."
      ],
      "metadata": {
        "id": "uvlcz9RYLRK8"
      }
    },
    {
      "cell_type": "markdown",
      "source": [
        "The analysis above provides a clear overview of the dataset, covering central values, variability, and distribution of both numberic and categorical data."
      ],
      "metadata": {
        "id": "_3Gj6jNhLXpY"
      }
    },
    {
      "cell_type": "code",
      "source": [
        "# Convert all columns to numeric where possible\n",
        "df_numeric = df.apply(pd.to_numeric, errors='coerce')\n",
        "\n",
        "# Visualisation of the avg_rat column\n",
        "plt.figure(figsize=(10, 6))\n",
        "df['avg_rat'].hist(bins=20)\n",
        "plt.title('Distribution of Average Ratings')\n",
        "plt.xlabel('Average Rating')\n",
        "plt.ylabel('Frequency')\n",
        "plt.show()"
      ],
      "metadata": {
        "colab": {
          "base_uri": "https://localhost:8080/",
          "height": 564
        },
        "id": "IfqyE54aMtuj",
        "outputId": "120debd3-35ec-4e60-b1ec-8e32d4fba38a"
      },
      "execution_count": null,
      "outputs": [
        {
          "output_type": "display_data",
          "data": {
            "text/plain": [
              "<Figure size 1000x600 with 1 Axes>"
            ],
            "image/png": "[encoded data removed]"
          },
          "metadata": {}
        }
      ]
    },
    {
      "cell_type": "markdown",
      "source": [
        "Visualising the distribution of avg_rat is important, because it helps us understand the overall shape of that spesific data. By looking at the histogram, we can see if the data follows a common pattern, like a normal, skewed, or bimodal distribution. This can provide important characteristics of the data.\n",
        "\n",
        "We used a histogram because it is an effective way to visualise the distribution of a single numerical variable. Histograms group data into “bins” or intervals, showing how frequently values fall within each range. This makes it easy to see patterns in the data, like common values, spread, and shape of the distribution, at a glance."
      ],
      "metadata": {
        "id": "RvlXPZUwjRZ9"
      }
    },
    {
      "cell_type": "code",
      "source": [
        "# Convert milliseconds to minutes\n",
        "duration_in_minutes = df['duration_ms'] / 60000\n",
        "\n",
        "# Get histogram data (frequency counts and bin edges) for 1-minute intervals within the 0-20 minute range\n",
        "counts, bin_edges = np.histogram(duration_in_minutes, bins=range(0, 21))  # Adjusted to include 20 minutes\n",
        "\n",
        "# Plot histogram for 0-20 minute range\n",
        "plt.figure(figsize=(10, 6))\n",
        "plt.hist(duration_in_minutes, bins=20, range=(0, 20), color='orange', edgecolor='black')\n",
        "plt.title('Distribution of Song Durations (0 to 20 Minutes)')\n",
        "plt.xlabel('Duration (minutes)')\n",
        "plt.ylabel('Number of Songs')\n",
        "plt.xticks(range(0, 21))  # Set x-ticks from 0 to 20\n",
        "plt.show()\n",
        "\n",
        "# Output the count of songs for each 1-minute range\n",
        "print(\"Number of Songs in Each Minute Range (0 to 20 Minutes):\")\n",
        "for i in range(len(counts)):\n",
        "    print(f\"Duration {i} - {i + 1} minutes: {counts[i]}\")\n",
        "\n",
        "\n",
        "# Calculate and print the total number of songs\n",
        "total_songs = counts.sum()\n",
        "print(f\"\\nTotal Number of Songs: {total_songs}\")\n",
        "\n",
        "# Count how many songs are longer than 20 minutes\n",
        "songs_longer_than_20 = duration_in_minutes[duration_in_minutes > 20].count()\n",
        "print(f\"\\nNumber of Songs Longer than 20 Minutes: {songs_longer_than_20}\")"
      ],
      "metadata": {
        "colab": {
          "base_uri": "https://localhost:8080/",
          "height": 1000
        },
        "id": "zMbLEFON_ktf",
        "outputId": "5164b432-5b43-48e1-bcb5-c30691b37d46"
      },
      "execution_count": null,
      "outputs": [
        {
          "output_type": "display_data",
          "data": {
            "text/plain": [
              "<Figure size 1000x600 with 1 Axes>"
            ],
            "image/png": "[encoded data removed]"
          },
          "metadata": {}
        },
        {
          "output_type": "stream",
          "name": "stdout",
          "text": [
            "Number of Songs in Each Minute Range (0 to 20 Minutes):\n",
            "Duration 0 - 1 minutes: 7\n",
            "Duration 1 - 2 minutes: 78\n",
            "Duration 2 - 3 minutes: 560\n",
            "Duration 3 - 4 minutes: 1470\n",
            "Duration 4 - 5 minutes: 1093\n",
            "Duration 5 - 6 minutes: 488\n",
            "Duration 6 - 7 minutes: 254\n",
            "Duration 7 - 8 minutes: 147\n",
            "Duration 8 - 9 minutes: 89\n",
            "Duration 9 - 10 minutes: 54\n",
            "Duration 10 - 11 minutes: 31\n",
            "Duration 11 - 12 minutes: 32\n",
            "Duration 12 - 13 minutes: 21\n",
            "Duration 13 - 14 minutes: 8\n",
            "Duration 14 - 15 minutes: 17\n",
            "Duration 15 - 16 minutes: 11\n",
            "Duration 16 - 17 minutes: 6\n",
            "Duration 17 - 18 minutes: 4\n",
            "Duration 18 - 19 minutes: 1\n",
            "Duration 19 - 20 minutes: 4\n",
            "\n",
            "Total Number of Songs: 4375\n",
            "\n",
            "Number of Songs Longer than 20 Minutes: 27\n"
          ]
        }
      ]
    },
    {
      "cell_type": "markdown",
      "source": [
        "With this histogram, we analysed the song duration by converting the duration from miliseconds to minutes, making it easier to understand and read the data. Afterwards, we generated the actual histsogram that illustrates how many songs fall into each mintue interval."
      ],
      "metadata": {
        "id": "ClPk0KcaEyn7"
      }
    },
    {
      "cell_type": "markdown",
      "source": [
        "The output reveals that the distribution of song durations within this dataset is majorly between 3-4 and 4-5 minutes. We can confidently say that this is, by lenght, the most common song type in our dataset. As the duration increases, the number of songs steadily decrease, with only 1 song in the 18-19 minute range and 4 songs in the 19-20 minute range.\n",
        "\n",
        "Overall, only 27 exceed 20 minutes in duration, but for better readability of the histogram and output, I decided to just group any songs that exceed the 20 minute range.  "
      ],
      "metadata": {
        "id": "qxxoTWzrFjHK"
      }
    },
    {
      "cell_type": "code",
      "source": [
        "# Convert milliseconds to minutes\n",
        "duration_in_minutes = df['duration_ms'] / 60000\n",
        "\n",
        "# Calculate average duration\n",
        "average_duration = duration_in_minutes.mean()\n",
        "\n",
        "# Get histogram data (frequency counts and bin edges) for 1-minute intervals within the 0-20 minute range\n",
        "counts, bin_edges = np.histogram(duration_in_minutes, bins=range(0, 21))  # Adjusted to include 20 minutes\n",
        "\n",
        "# Plot histogram for 0-20 minute range\n",
        "plt.figure(figsize=(10, 6))\n",
        "plt.hist(duration_in_minutes, bins=20, range=(0, 20), color='orange', edgecolor='black', alpha=0.7)\n",
        "plt.axvline(average_duration, color='black', linestyle='dashed', linewidth=2, label=f'Average Duration: {average_duration:.2f} min')\n",
        "plt.title('Distribution of Song Durations (0 to 20 Minutes)')\n",
        "plt.xlabel('Duration (minutes)')\n",
        "plt.ylabel('Number of Songs')\n",
        "plt.xticks(range(0, 21))  # Set x-ticks from 0 to 20\n",
        "plt.legend()  # Add a legend\n",
        "plt.show()\n",
        "\n",
        "# Output the average duration\n",
        "print(f\"Average Duration of Songs: {average_duration:.2f} minutes\")"
      ],
      "metadata": {
        "colab": {
          "base_uri": "https://localhost:8080/",
          "height": 582
        },
        "id": "8BdxJ62yGrrI",
        "outputId": "e7986c8e-3e99-4788-b597-82237579e074"
      },
      "execution_count": null,
      "outputs": [
        {
          "output_type": "display_data",
          "data": {
            "text/plain": [
              "<Figure size 1000x600 with 1 Axes>"
            ],
            "image/png": "[encoded data removed]"
          },
          "metadata": {}
        },
        {
          "output_type": "stream",
          "name": "stdout",
          "text": [
            "Average Duration of Songs: 4.75 minutes\n"
          ]
        }
      ]
    },
    {
      "cell_type": "markdown",
      "source": [
        "It is also worth mentioning that the average duration of the songs in this dataset is 4.75 minutes.\n",
        "\n",
        "To determine the average duration of songs, I converted the song durations from ms to minutes by dividing the duration_ms column by 60,000. Then, I calculated the mean of these converted durations using the mean() function, which provided the average length of the songs. I also marked the histogram at the 4.75 point with a black dotted line to make it read easier."
      ],
      "metadata": {
        "id": "anBUW6GbHRu3"
      }
    },
    {
      "cell_type": "code",
      "source": [
        "# Create a new categorical variable based on 'avg_rat'\n",
        "bins = [0, 2, 4, 5]  # Define the bin edges\n",
        "labels = ['Low', 'Med', 'High']  # Define the corresponding labels\n",
        "df['rating_category'] = pd.cut(df['avg_rat'], bins=bins, labels=labels, right=False)\n",
        "\n",
        "# Count the frequency of each category\n",
        "category_counts = df['rating_category'].value_counts()\n",
        "print(df['rating_category'].value_counts())\n"
      ],
      "metadata": {
        "colab": {
          "base_uri": "https://localhost:8080/"
        },
        "id": "RKAY8FhrjUxw",
        "outputId": "a7868dac-1abd-414e-8546-c6dfd5e1cb21"
      },
      "execution_count": null,
      "outputs": [
        {
          "output_type": "stream",
          "name": "stdout",
          "text": [
            "rating_category\n",
            "Med     4230\n",
            "High     172\n",
            "Low        0\n",
            "Name: count, dtype: int64\n"
          ]
        }
      ]
    },
    {
      "cell_type": "markdown",
      "source": [
        "We took the avg_rat column and generated a categorical variable rating_category based on the defined bins. (Low, Medium, High) In this instance, Low means the lowest rating values (ie. 1/2), Medium means average rating values (ie. 3-4), and High means near perfect rating values (ie. 4-5).\n",
        "\n",
        "We used the value_counts() on the rating_category() column to count how many antries fall into each category."
      ],
      "metadata": {
        "id": "QiCZbW1rmrsF"
      }
    },
    {
      "cell_type": "code",
      "source": [
        "plt.figure(figsize=(8, 5))\n",
        "category_counts.plot(kind='bar', color='red')\n",
        "plt.title('Frequency Distribution of Rating Categories')\n",
        "plt.xlabel('Rating Category')\n",
        "plt.ylabel('Frequency')\n",
        "plt.xticks(rotation=0)  # Keep x-axis labels horizontal\n",
        "plt.grid(axis='y')  # Add grid lines for better readability\n",
        "plt.show()\n",
        "\n",
        "# Print the numeric summary of the rating categories\n",
        "print(\"Numeric Summary of Rating Categories:\")\n",
        "print(category_counts)"
      ],
      "metadata": {
        "colab": {
          "base_uri": "https://localhost:8080/",
          "height": 594
        },
        "id": "NxnydujFmDg_",
        "outputId": "72ec11df-f3b4-42d6-b39b-5b120e7f97e2"
      },
      "execution_count": null,
      "outputs": [
        {
          "output_type": "display_data",
          "data": {
            "text/plain": [
              "<Figure size 800x500 with 1 Axes>"
            ],
            "image/png": "[encoded data removed]"
          },
          "metadata": {}
        },
        {
          "output_type": "stream",
          "name": "stdout",
          "text": [
            "Numeric Summary of Rating Categories:\n",
            "rating_category\n",
            "Med     4230\n",
            "High     172\n",
            "Low        0\n",
            "Name: count, dtype: int64\n"
          ]
        }
      ]
    },
    {
      "cell_type": "markdown",
      "source": [
        "Then, we created a bar chart using matplotlib, where we plot the counts in a bar chart. We set the figure size for better visibility, we call the plot() method on category_counts, specifying kind='bar' to create a bar chart.\n",
        "\n",
        "Adding plt.grid(axis='y') provides horizontal grid lines, helping with the readability of the values.\n",
        "\n"
      ],
      "metadata": {
        "id": "18K0RYIUnXZA"
      }
    },
    {
      "cell_type": "markdown",
      "source": [
        "With the produced analysis, we can confidently say, based on the spotify_5000 dataset, that most avg_rat is in the \"Medium\" value, meaning listeners rated the songs/albums accordingly."
      ],
      "metadata": {
        "id": "R0ZVKMenqzhc"
      }
    },
    {
      "cell_type": "markdown",
      "source": [
        "##Bivariate Analysis"
      ],
      "metadata": {
        "id": "Wep8lWoyuJsx"
      }
    },
    {
      "cell_type": "code",
      "source": [
        "# Create a pivot table to summarize average ratings and average acousticness by genre\n",
        "pivot_table = pd.pivot_table(\n",
        "    df,\n",
        "    values=['avg_rat', 'acousticness'],\n",
        "    index=['gens'],  # Row: Genre\n",
        "    aggfunc={'avg_rat': 'mean', 'acousticness': 'mean'},  # Mean of avg_rat and acousticness\n",
        "    fill_value=0  # Fill NaN values with 0\n",
        ")\n",
        "\n",
        "# Sort the pivot table by average acousticness\n",
        "sorted_pivot = pivot_table.sort_values(by='acousticness', ascending=False)\n",
        "\n",
        "# Get top 5 genres by average acousticness\n",
        "top_5_acoustic = sorted_pivot.head(5)\n",
        "\n",
        "# Get bottom 5 genres by average acousticness\n",
        "bottom_5_acoustic = sorted_pivot.tail(5)\n",
        "\n",
        "# Display the full pivot table\n",
        "print(\"Pivot Table of Average Ratings and Acousticness by Genre:\")\n",
        "print(pivot_table)\n",
        "\n",
        "# Display top 5 genres by average acousticness\n",
        "print(\"\\nTop 5 Genres by Average Acousticness:\")\n",
        "print(top_5_acoustic)\n",
        "\n",
        "# Display bottom 5 genres by average acousticness\n",
        "print(\"\\nBottom 5 Genres by Average Acousticness:\")\n",
        "print(bottom_5_acoustic)"
      ],
      "metadata": {
        "colab": {
          "base_uri": "https://localhost:8080/"
        },
        "id": "Olrvd6TmIJEd",
        "outputId": "29735b60-8dd8-484b-c2ce-84dd1eac1a26"
      },
      "execution_count": null,
      "outputs": [
        {
          "output_type": "stream",
          "name": "stdout",
          "text": [
            "Pivot Table of Average Ratings and Acousticness by Genre:\n",
            "                    acousticness   avg_rat\n",
            "gens                                      \n",
            "2 Tone                  0.059814  3.700000\n",
            "AOR                     0.359223  3.650000\n",
            "Abstract Hip Hop        0.286279  3.809286\n",
            "Acid Rock               0.962960  3.720000\n",
            "Acoustic Blues          0.803750  3.770000\n",
            "...                          ...       ...\n",
            "Vocal Jazz              0.831083  3.785600\n",
            "Warsaw City Folk        0.253676  3.760000\n",
            "West Coast Hip Hop      0.172214  3.753333\n",
            "Wolof Music             0.514778  3.700000\n",
            "Zeuhl                   0.578066  3.762500\n",
            "\n",
            "[428 rows x 2 columns]\n",
            "\n",
            "Top 5 Genres by Average Acousticness:\n",
            "                    acousticness   avg_rat\n",
            "gens                                      \n",
            "Gregorian Chant         0.990344  3.745000\n",
            "Free Improvisation      0.985350  3.710000\n",
            "Renaissance Music       0.979846  3.786667\n",
            "Stride                  0.979000  3.730000\n",
            "Impressionism           0.978704  3.856667\n",
            "\n",
            "Bottom 5 Genres by Average Acousticness:\n",
            "                    acousticness  avg_rat\n",
            "gens                                     \n",
            "Emocore                 0.006242   3.6600\n",
            "Emoviolence             0.001312   3.7950\n",
            "D-Beat                  0.001312   3.7400\n",
            "Brutal Death Metal      0.000092   3.8325\n",
            "Deathcore               0.000014   3.7000\n"
          ]
        }
      ]
    },
    {
      "cell_type": "markdown",
      "source": [
        "I created a pivot table to examine the relationship between music genres and their corresponding average ratings and acousticness. I used the pd.pivot.table() function to summarise the avg_rat and average accousticness for each genre. By specifying the genre as the index and calculating the mean for both metrics, we generated a clear and informative table that illustrates how different genres perform in term of listener ratings and acoustic characteristics.\n",
        "\n",
        "Our analysis also reveals that genres with the top average accousticness are more 'niche' genres, whilst in the bottom 5 the genres are somewhat more popular, but still would be categorised as niche. This is an interesting parallel, because these findings suggests that the accousticness of songs/genres don't necessarily contribute to popularity in this case."
      ],
      "metadata": {
        "id": "DfAqp0Qc2AZH"
      }
    },
    {
      "cell_type": "code",
      "source": [
        "# Create a pivot table to summarize average ratings and average acousticness by genre\n",
        "pivot_table = pd.pivot_table(\n",
        "    df,\n",
        "    values=['avg_rat', 'acousticness'],\n",
        "    index=['gens'],  # Row: Genre\n",
        "    aggfunc={'avg_rat': 'mean', 'acousticness': 'mean'},  # Mean of avg_rat and acousticness\n",
        "    fill_value=0  # Fill NaN values with 0\n",
        ")\n",
        "\n",
        "# Sort the pivot table by average rating\n",
        "sorted_pivot = pivot_table.sort_values(by='avg_rat', ascending=False)\n",
        "\n",
        "# Get top 5 genres\n",
        "top_5 = sorted_pivot.head(5)\n",
        "\n",
        "# Get bottom 5 genres\n",
        "bottom_5 = sorted_pivot.tail(5)\n",
        "\n",
        "# Display top 5 genres\n",
        "print(\"Top 5 Genres by Average Rating:\")\n",
        "print(top_5)\n",
        "\n",
        "# Display bottom 5 genres\n",
        "print(\"\\nBottom 5 Genres by Average Rating:\")\n",
        "print(bottom_5)"
      ],
      "metadata": {
        "colab": {
          "base_uri": "https://localhost:8080/"
        },
        "id": "B1PJToacKEPl",
        "outputId": "45f9c787-d4d7-43f2-efdc-ed9fd3402671"
      },
      "execution_count": null,
      "outputs": [
        {
          "output_type": "stream",
          "name": "stdout",
          "text": [
            "Top 5 Genres by Average Rating:\n",
            "                    acousticness   avg_rat\n",
            "gens                                      \n",
            "Chipmunk Soul           0.360022  4.030000\n",
            "Baggy / Madchester      0.090997  3.980000\n",
            "Proto-Punk              0.164898  3.972500\n",
            "Symphony                0.919734  3.962857\n",
            "Future Garage           0.534408  3.940000\n",
            "\n",
            "Bottom 5 Genres by Average Rating:\n",
            "                  acousticness  avg_rat\n",
            "gens                                   \n",
            "Electropop            0.224301    3.642\n",
            "Melodic Hardcore      0.162739    3.640\n",
            "Radio Drama           0.019500    3.640\n",
            "Groove Metal          0.014585    3.620\n",
            "Emo-Pop               0.078702    3.590\n"
          ]
        }
      ]
    },
    {
      "cell_type": "code",
      "source": [
        "# Convert 'avg_rat' to numeric, forcing errors to NaN\n",
        "df['avg_rat'] = pd.to_numeric(df['avg_rat'], errors='coerce')\n",
        "\n",
        "# Check for NaN values in 'avg_rat' and handle them\n",
        "print(\"NaN values in 'avg_rat':\", df['avg_rat'].isnull().sum())\n",
        "\n",
        "# Drop rows with NaN values in 'avg_rat' if necessary\n",
        "df = df.dropna(subset=['avg_rat'])\n",
        "\n",
        "# Calculate the average rating for each genre\n",
        "average_ratings = df.groupby('gens')['avg_rat'].mean()\n",
        "\n",
        "# Convert the average ratings to a DataFrame for better display\n",
        "average_ratings_df = average_ratings.reset_index()\n",
        "\n",
        "# Rename columns for clarity\n",
        "average_ratings_df.columns = ['Genre', 'Average_Rating']\n",
        "\n",
        "# Display the average ratings per genre\n",
        "print(\"Average ratings received by each genre:\")\n",
        "print(average_ratings_df)"
      ],
      "metadata": {
        "colab": {
          "base_uri": "https://localhost:8080/"
        },
        "id": "X851Pa9m5UcV",
        "outputId": "fd8bc6a0-bf31-46ac-def1-8c51710bce8d"
      },
      "execution_count": null,
      "outputs": [
        {
          "output_type": "stream",
          "name": "stdout",
          "text": [
            "NaN values in 'avg_rat': 0\n",
            "Average ratings received by each genre:\n",
            "                  Genre  Average_Rating\n",
            "0                2 Tone        3.700000\n",
            "1                   AOR        3.650000\n",
            "2      Abstract Hip Hop        3.809286\n",
            "3             Acid Rock        3.720000\n",
            "4        Acoustic Blues        3.770000\n",
            "..                  ...             ...\n",
            "423          Vocal Jazz        3.785600\n",
            "424    Warsaw City Folk        3.760000\n",
            "425  West Coast Hip Hop        3.753333\n",
            "426         Wolof Music        3.700000\n",
            "427               Zeuhl        3.762500\n",
            "\n",
            "[428 rows x 2 columns]\n"
          ]
        }
      ]
    },
    {
      "cell_type": "markdown",
      "source": [
        "With cross tabulation, I first ensured that the avg_rat column in the dataset is a numeric type by using pd.to_numeric(), which convers any non-numeric entries to NaN.\n",
        "\n",
        "Then, I check for and handle any NaN values by counting them and dropping rows with missing avg_rat to maintain data integrity.\n",
        "\n",
        "Nexy, I calculated the average rating for each genre by grouping the daat by the gens column and using the mean function. This gave me an idea on how each genre is rated in the dataset.\n",
        "\n",
        "I converted the resulting averate ratings into a DataFrame for better readability and also renamed the columns to \"Genre\" and \"Average Rating\"."
      ],
      "metadata": {
        "id": "1glV-cIh-Y8z"
      }
    },
    {
      "cell_type": "code",
      "source": [
        "# Sort the DataFrame by Average_Rating in descending order to find highest rated genres\n",
        "highest_rated_genres = average_ratings_df.sort_values(by='Average_Rating', ascending=False)\n",
        "\n",
        "# Sort the DataFrame by Average_Rating in ascending order to find lowest rated genres\n",
        "lowest_rated_genres = average_ratings_df.sort_values(by='Average_Rating', ascending=True)\n",
        "\n",
        "# Display the top 5 highest rated genres\n",
        "print(\"Top 5 Highest Rated Genres:\")\n",
        "print(highest_rated_genres.head(5))\n",
        "\n",
        "# Display the top 5 lowest rated genres\n",
        "print(\"\\nTop 5 Lowest Rated Genres:\")\n",
        "print(lowest_rated_genres.head(5))"
      ],
      "metadata": {
        "colab": {
          "base_uri": "https://localhost:8080/"
        },
        "id": "jpr4Az6o_Y5-",
        "outputId": "fc02c67d-457b-4c2e-f8eb-a8f5068d3346"
      },
      "execution_count": null,
      "outputs": [
        {
          "output_type": "stream",
          "name": "stdout",
          "text": [
            "Top 5 Highest Rated Genres:\n",
            "                  Genre  Average_Rating\n",
            "72        Chipmunk Soul        4.030000\n",
            "34   Baggy / Madchester        3.980000\n",
            "319          Proto-Punk        3.972500\n",
            "395            Symphony        3.962857\n",
            "171       Future Garage        3.940000\n",
            "\n",
            "Top 5 Lowest Rated Genres:\n",
            "                Genre  Average_Rating\n",
            "137           Emo-Pop           3.590\n",
            "186      Groove Metal           3.620\n",
            "235  Melodic Hardcore           3.640\n",
            "330       Radio Drama           3.640\n",
            "135        Electropop           3.642\n"
          ]
        }
      ]
    },
    {
      "cell_type": "markdown",
      "source": [
        "With the code above, I displayed the top and bototm 5 genres based by the average rating. This helps us visualise how each genre was rated, though it does not consider the number of ratings to calculate the average rating.\n",
        "\n",
        "First, I sorted the average_ratings_df in descending order based on the Average_Rating column, which allowed me to extract the genres with the highest average ratings.\n",
        "\n",
        "Similarly, I found the lowest average ratings by sorting in the lowest_rated_genres variable.\n",
        "\n",
        "At last, I just displayed the top 5 and bottom 5 entries."
      ],
      "metadata": {
        "id": "BTd4wG90___E"
      }
    },
    {
      "cell_type": "markdown",
      "source": [
        "## Conclusion"
      ],
      "metadata": {
        "id": "3bC64DYTBQ8H"
      }
    },
    {
      "cell_type": "markdown",
      "source": [
        "My analysis of the Spotify5000.csv dataset revealed that there is a strong correlation between Genres and the Average Rating of songs - There are clear favourite genres which we can reveal by analysing the average rating and number of ratings side by side.\n",
        "\n",
        "The cross tabulation also revealed that some genres might not be as popular as others (such as West Coast hip-hop, or Alternative Rock), but on average they received a higher average rating score than other genres. This phenomenon is caused because there are limited number of albums within those less prevalent genres, allowing for a higher average rating. This highlights the relationship between genre popularity and average rating, highlighting that less popular genres may receive less ratings, therefore maintaining a better average rate.\n",
        "\n",
        "If we are looking at the bar chart from the 'Frequency Distribution of Rating Categories' chart, we can draw a conclusion that the majority of songs/albums fall within the \"Med\" rating category, with 4,230 entries. This can suggest to us that a large portion of the dataset is composed of songs/albums that received moderate average ratings, reflecting an average or \"Medium\" level of reception. On the other hand, the \"High\" rating category contains only 172 entries, revealing that while there are some standout songs/albums, they contribute a small fraction to the total.\n",
        "Also, could be interesting to mention that the \"Low\" rating category has no entries, which implies that there are no songs/albums deemed poor in quality - which isn't surprising, hence we are looking at a Top 5000 Spotify hits dataset, therefore a song/album deemed as \"Low\" would be an anomaly and possibly be a faulty entry.\n",
        "\n",
        "If we take a quick look at the pivot table, we can clearly determine that the accousticness doesn't necessarily contribute to higher average rating in genres, because our analysis revealed that the top 5 and bottom 5 of genres, sorted by average accousticness, share very similar average ratings. This leads me to believe that while accousticness is an important feature in music, it may not be the sole determinant of a genre's overall popularity or listener satisfaction."
      ],
      "metadata": {
        "id": "Fg9k8dzZBTEK"
      }
    },
    {
      "cell_type": "code",
      "source": [
        "# Sort pivot table by average ratings\n",
        "sorted_pivot = pivot_table.sort_values(by='avg_rat', ascending=False)\n",
        "\n",
        "# Get top 5 and bottom 5 genres\n",
        "top_5 = sorted_pivot.head(5)\n",
        "bottom_5 = sorted_pivot.tail(5)\n",
        "\n",
        "# Combine top and bottom genres for plotting\n",
        "combined = pd.concat([top_5, bottom_5])\n",
        "\n",
        "# Bar chart\n",
        "plt.figure(figsize=(10, 6))\n",
        "sns.barplot(data=combined, x='avg_rat', y='gens', palette='coolwarm')\n",
        "plt.title('Top 5 and Bottom 5 Genres by Average Ratings')\n",
        "plt.xlabel('Average Rating')\n",
        "plt.ylabel('Genre')\n",
        "plt.show()"
      ],
      "metadata": {
        "colab": {
          "base_uri": "https://localhost:8080/",
          "height": 673
        },
        "id": "zTBFC0tnNmPq",
        "outputId": "92b35654-bf0c-4b02-8215-ed75b24bf240"
      },
      "execution_count": null,
      "outputs": [
        {
          "output_type": "stream",
          "name": "stderr",
          "text": [
            "<ipython-input-109-4acf2c3d35a8>:13: FutureWarning: \n",
            "\n",
            "Passing `palette` without assigning `hue` is deprecated and will be removed in v0.14.0. Assign the `y` variable to `hue` and set `legend=False` for the same effect.\n",
            "\n",
            "  sns.barplot(data=combined, x='avg_rat', y='gens', palette='coolwarm')\n"
          ]
        },
        {
          "output_type": "display_data",
          "data": {
            "text/plain": [
              "<Figure size 1000x600 with 1 Axes>"
            ],
            "image/png": "[encoded data removed]"
          },
          "metadata": {}
        }
      ]
    },
    {
      "cell_type": "markdown",
      "source": [
        "Lastly, the outliers across various columns in the dataset revealed that there is a significant variations in data quality. Specifically, the avg_rat column showed 40 outliers, indicating that the subset of ratings diverged consideravly from the norm, which can reflext extreme cases of satisfaction or dissatisfaction.\n",
        "\n",
        "The num_revs column has 80 outliers, suggesting that a few items received either an unusually high or low number of reviews.\n",
        "\n",
        "There are also 56 outliers in the duration_ms colum, which could suggest that some songs are longer or shorter than the rest. Finally, the time_signature column, with 45 outliers, could indicate irregular time sugnatures that are less common in mainstraim music but may appeal to nighe audiences."
      ],
      "metadata": {
        "id": "XwjedzFnJkwd"
      }
    }
  ]
}